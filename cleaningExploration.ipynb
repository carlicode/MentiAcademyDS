{
  "cells": [
    {
      "cell_type": "markdown",
      "metadata": {
        "id": "Q4gZ5_3m5zuz"
      },
      "source": [
        "# Exploración"
      ]
    },
    {
      "cell_type": "markdown",
      "metadata": {
        "id": "aTzLzf0x5Yl-"
      },
      "source": [
        "Imprime las dos primeras filas"
      ]
    },
    {
      "cell_type": "code",
      "execution_count": null,
      "metadata": {
        "colab": {
          "base_uri": "https://localhost:8080/"
        },
        "id": "LTXTu-n93E5O",
        "outputId": "4b468fbc-8226-4ab7-cc6d-39d93373bcc1"
      },
      "outputs": [],
      "source": [
        "import pandas as pd\n",
        "\n",
        "data = pd.read_csv('Menti Data.csv')\n",
        "df = pd.DataFrame(data)\n",
        "\n",
        "print(df.head(2))"
      ]
    },
    {
      "cell_type": "markdown",
      "metadata": {
        "id": "GFYxf_aC5xWE"
      },
      "source": [
        "Últimas 5 filas"
      ]
    },
    {
      "cell_type": "code",
      "execution_count": null,
      "metadata": {
        "colab": {
          "base_uri": "https://localhost:8080/"
        },
        "id": "WEm5vC9O5dXE",
        "outputId": "ad37fef7-bb22-48d6-b4b9-a356b879785d"
      },
      "outputs": [],
      "source": [
        "print(df.tail())"
      ]
    },
    {
      "cell_type": "markdown",
      "metadata": {
        "id": "yhFwxYmO6Ctd"
      },
      "source": [
        "Información sobre los datos"
      ]
    },
    {
      "cell_type": "code",
      "execution_count": 17,
      "metadata": {
        "colab": {
          "base_uri": "https://localhost:8080/"
        },
        "id": "-NU1jzg952h6",
        "outputId": "8c0ee37f-55ab-4206-ed9a-04ebc6955098"
      },
      "outputs": [
        {
          "name": "stdout",
          "output_type": "stream",
          "text": [
            "<class 'pandas.core.frame.DataFrame'>\n",
            "RangeIndex: 1048 entries, 0 to 1047\n",
            "Data columns (total 9 columns):\n",
            " #   Column         Non-Null Count  Dtype \n",
            "---  ------         --------------  ----- \n",
            " 0   Nombre alumno  1048 non-null   object\n",
            " 1   Edad           1048 non-null   int64 \n",
            " 2   Tutor          1040 non-null   object\n",
            " 3   Celular        1047 non-null   object\n",
            " 4   Ciudad         1048 non-null   object\n",
            " 5   País           1047 non-null   object\n",
            " 6   Curso          1048 non-null   object\n",
            " 7   Precio         1048 non-null   int64 \n",
            " 8   Fecha          1048 non-null   object\n",
            "dtypes: int64(2), object(7)\n",
            "memory usage: 73.8+ KB\n",
            "None\n"
          ]
        }
      ],
      "source": [
        "print(df.info())"
      ]
    },
    {
      "cell_type": "markdown",
      "metadata": {
        "id": "v-egVjCu6RFD"
      },
      "source": [
        "# Cleaning data"
      ]
    },
    {
      "cell_type": "markdown",
      "metadata": {
        "id": "qummV6TX6VyR"
      },
      "source": [
        "\n",
        "\n",
        "*   Eliminar espacios de la columna Celular\n",
        "*   Eliminar el \"591\" a los números de Bolivia\n",
        "*   Cambiar formato de fecha de \"-\" a \"/\"\n",
        "\n"
      ]
    },
    {
      "cell_type": "code",
      "execution_count": 14,
      "metadata": {
        "id": "b85RCfF16Fx9"
      },
      "outputs": [],
      "source": [
        "import re\n",
        "\n",
        "def eliminar_codigo(numero):\n",
        "    if isinstance(numero, str):\n",
        "        numero = re.sub(r'\\D', '', numero)# Elimina no dígitos\n",
        "        numero = re.sub(r'^591', '', numero)# Elimina \"591\"\n",
        "    return numero\n",
        "\n",
        "df['Celular'] = data['Celular'].apply(eliminar_codigo)\n",
        "#df.to_csv('Menti Data Sin Codigo.csv', index=False)"
      ]
    },
    {
      "cell_type": "code",
      "execution_count": 21,
      "metadata": {
        "id": "hwX2Nlwo9OLK"
      },
      "outputs": [],
      "source": [
        "def convertir_fecha_formato(fecha):\n",
        "    if '-' in fecha:\n",
        "        dia, mes, anio = fecha.split('-')\n",
        "    elif '/' in fecha:\n",
        "        dia, mes, anio = fecha.split('/')\n",
        "    else:\n",
        "        return fecha\n",
        "\n",
        "    if len(dia) == 1:\n",
        "        dia = f\"0{dia}\"\n",
        "    if len(mes) == 1:\n",
        "        mes = f\"0{mes}\"\n",
        "    fecha_convertida = f\"{dia}/{mes}/{anio}\"\n",
        "\n",
        "    return fecha_convertida\n",
        "\n",
        "df['Fecha'] = data['Fecha'].apply(convertir_fecha_formato)\n",
        "\n",
        "df.to_csv('Clean Data.csv', index=False)"
      ]
    }
  ],
  "metadata": {
    "colab": {
      "provenance": []
    },
    "kernelspec": {
      "display_name": "Python 3",
      "name": "python3"
    },
    "language_info": {
      "name": "python"
    }
  },
  "nbformat": 4,
  "nbformat_minor": 0
}
