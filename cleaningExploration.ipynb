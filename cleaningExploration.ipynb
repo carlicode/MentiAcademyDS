{
  "nbformat": 4,
  "nbformat_minor": 0,
  "metadata": {
    "colab": {
      "provenance": []
    },
    "kernelspec": {
      "name": "python3",
      "display_name": "Python 3"
    },
    "language_info": {
      "name": "python"
    }
  },
  "cells": [
    {
      "cell_type": "markdown",
      "source": [
        "# Exploración"
      ],
      "metadata": {
        "id": "Q4gZ5_3m5zuz"
      }
    },
    {
      "cell_type": "markdown",
      "source": [
        "Imprime las dos primeras filas"
      ],
      "metadata": {
        "id": "aTzLzf0x5Yl-"
      }
    },
    {
      "cell_type": "code",
      "execution_count": 29,
      "metadata": {
        "colab": {
          "base_uri": "https://localhost:8080/"
        },
        "id": "LTXTu-n93E5O",
        "outputId": "de78ae81-6579-44b0-fa82-2605a8efc15b"
      },
      "outputs": [
        {
          "output_type": "stream",
          "name": "stdout",
          "text": [
            "                      Nombre alumno  Edad             Tutor    Celular  \\\n",
            "0  Arcángel Donato Acuña Magallanes    11          Franklin  972253579   \n",
            "1      Franco Clide Pérez Rodríguez    11  Estela Rodríguez  959059301   \n",
            "\n",
            "     Ciudad  País      Curso  Precio      Fecha  \n",
            "0  Arequipa  Perú  Minecraft     209  14-2-2022  \n",
            "1  Arequipa  Perú  Minecraft     209  14-2-2022  \n"
          ]
        }
      ],
      "source": [
        "import pandas as pd\n",
        "\n",
        "data = pd.read_csv('Menti Data.csv')\n",
        "df = pd.DataFrame(data)\n",
        "\n",
        "print(df.head(2))\n"
      ]
    },
    {
      "cell_type": "markdown",
      "source": [
        "Últimas 5 filas"
      ],
      "metadata": {
        "id": "GFYxf_aC5xWE"
      }
    },
    {
      "cell_type": "code",
      "source": [
        "print(df.tail())"
      ],
      "metadata": {
        "colab": {
          "base_uri": "https://localhost:8080/"
        },
        "id": "WEm5vC9O5dXE",
        "outputId": "3cdb008f-6f4b-4710-848d-9fa855e2ac80"
      },
      "execution_count": 30,
      "outputs": [
        {
          "output_type": "stream",
          "name": "stdout",
          "text": [
            "                         Nombre alumno  Edad                      Tutor  \\\n",
            "1043        Ariana Lisbeth Marín Soria    10       Gaby Soria Castañeda   \n",
            "1044              Anderson Bruno Muñoz     7       Jeny Soria Castañeda   \n",
            "1045            Juan Luis Romero Pérez     7                      David   \n",
            "1046  Camila Michelle Gutierrez Gamboa    11   Leydidiana Gamboa Ferrer   \n",
            "1047            Ariana Funegra Taboada     8  Francisco Funegra Quevedo   \n",
            "\n",
            "             Celular    Ciudad  País      Curso  Precio      Fecha  \n",
            "1043       994810140  Trujillo  Perú      Rubik     199   5-1-2022  \n",
            "1044       956340982  Trujillo  Perú      Rubik     199   5-1-2022  \n",
            "1045       948127012  Trujillo  Perú      Rubik     199   5-1-2022  \n",
            "1046       982278716  Trujillo  Perú  Minecraft     209  14-2-2022  \n",
            "1047  51 916 713 224  Trujillo  Perú     Roblox     209  14-2-2022  \n"
          ]
        }
      ]
    },
    {
      "cell_type": "markdown",
      "source": [
        "Información sobre los datos"
      ],
      "metadata": {
        "id": "yhFwxYmO6Ctd"
      }
    },
    {
      "cell_type": "code",
      "source": [
        "print(df.info())"
      ],
      "metadata": {
        "colab": {
          "base_uri": "https://localhost:8080/"
        },
        "id": "-NU1jzg952h6",
        "outputId": "1cd6e810-7e29-4ad2-9e15-cf3e530c4c3f"
      },
      "execution_count": 31,
      "outputs": [
        {
          "output_type": "stream",
          "name": "stdout",
          "text": [
            "<class 'pandas.core.frame.DataFrame'>\n",
            "RangeIndex: 1048 entries, 0 to 1047\n",
            "Data columns (total 9 columns):\n",
            " #   Column         Non-Null Count  Dtype \n",
            "---  ------         --------------  ----- \n",
            " 0   Nombre alumno  1048 non-null   object\n",
            " 1   Edad           1048 non-null   int64 \n",
            " 2   Tutor          1040 non-null   object\n",
            " 3   Celular        1047 non-null   object\n",
            " 4   Ciudad         1048 non-null   object\n",
            " 5   País           1047 non-null   object\n",
            " 6   Curso          1048 non-null   object\n",
            " 7   Precio         1048 non-null   int64 \n",
            " 8   Fecha          1048 non-null   object\n",
            "dtypes: int64(2), object(7)\n",
            "memory usage: 73.8+ KB\n",
            "None\n"
          ]
        }
      ]
    },
    {
      "cell_type": "markdown",
      "source": [
        "# Cleaning data"
      ],
      "metadata": {
        "id": "v-egVjCu6RFD"
      }
    },
    {
      "cell_type": "markdown",
      "source": [
        "\n",
        "*   Eliminar espacios de la columna Celular\n",
        "*   Eliminar el \"591\" a los números de Bolivia\n",
        "*   Cambiar formato de fecha de \"-\" a \"/\"\n",
        "*   \"Mexico\" por \"México\"\n",
        "*   \"Peru\" por \"Perú\"\n",
        "*   Eliminar filas vacías\n",
        "\n"
      ],
      "metadata": {
        "id": "qummV6TX6VyR"
      }
    },
    {
      "cell_type": "code",
      "source": [
        "import re\n",
        "\n",
        "def eliminar_codigo(numero):\n",
        "    if isinstance(numero, str):\n",
        "        numero = re.sub(r'\\D', '', numero)# Elimina no dígitos\n",
        "        numero = re.sub(r'^591', '', numero)# Elimina \"591\"\n",
        "    return numero\n",
        "\n",
        "df['Celular'] = df['Celular'].apply(eliminar_codigo)\n",
        "#df.to_csv('Menti Data Sin Codigo.csv', index=False)"
      ],
      "metadata": {
        "id": "b85RCfF16Fx9"
      },
      "execution_count": 32,
      "outputs": []
    },
    {
      "cell_type": "code",
      "source": [
        "def convertir_fecha_formato(fecha):\n",
        "    if '-' in fecha:\n",
        "        dia, mes, anio = fecha.split('-')\n",
        "    elif '/' in fecha:\n",
        "        dia, mes, anio = fecha.split('/')\n",
        "    else:\n",
        "        return fecha\n",
        "\n",
        "    if len(dia) == 1:\n",
        "        dia = f\"0{dia}\"\n",
        "    if len(mes) == 1:\n",
        "        mes = f\"0{mes}\"\n",
        "\n",
        "    fecha_convertida = f\"{dia}/{mes}/{anio}\"\n",
        "\n",
        "    return fecha_convertida\n",
        "\n",
        "df['Fecha'] = df['Fecha'].apply(convertir_fecha_formato)"
      ],
      "metadata": {
        "id": "hwX2Nlwo9OLK"
      },
      "execution_count": 33,
      "outputs": []
    },
    {
      "cell_type": "code",
      "source": [
        "def reemplazar_paises():\n",
        "    df['País'] = df['País'].replace({'Mexico': 'México', 'Peru': 'Perú'})\n",
        "\n",
        "reemplazar_paises()\n",
        "\n",
        "#df.to_csv('Clean Data.csv', index=False)"
      ],
      "metadata": {
        "id": "etRu8GOfKNco"
      },
      "execution_count": 37,
      "outputs": []
    },
    {
      "cell_type": "code",
      "source": [
        "def eliminar_filas_vacias(df, archivo_csv):\n",
        "    df = df.dropna()\n",
        "    df = df.reset_index(drop=True)\n",
        "    df.to_csv(archivo_csv, index=False)\n",
        "\n",
        "    print(\"DataFrame modificado guardado como:\", archivo_csv)\n",
        "\n",
        "eliminar_filas_vacias(df, 'cleanData.csv')"
      ],
      "metadata": {
        "colab": {
          "base_uri": "https://localhost:8080/"
        },
        "id": "FmMOqogvKZTm",
        "outputId": "60350b0d-3c12-4c09-f4a9-af3eeb676883"
      },
      "execution_count": 38,
      "outputs": [
        {
          "output_type": "stream",
          "name": "stdout",
          "text": [
            "DataFrame modificado guardado como: cleanData.csv\n"
          ]
        }
      ]
    }
  ]
}